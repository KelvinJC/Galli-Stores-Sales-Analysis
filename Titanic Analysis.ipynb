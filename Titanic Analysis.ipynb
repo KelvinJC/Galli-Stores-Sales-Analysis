{
 "cells": [
  {
   "cell_type": "markdown",
   "id": "13d34736",
   "metadata": {},
   "source": [
    "# Analysis of Titanic passenger data"
   ]
  },
  {
   "cell_type": "markdown",
   "id": "3fcd814e",
   "metadata": {},
   "source": [
    "## Import necessary libraries"
   ]
  },
  {
   "cell_type": "code",
   "execution_count": 3,
   "id": "1b55b30d",
   "metadata": {},
   "outputs": [],
   "source": [
    "import numpy as np\n",
    "import pandas as pd\n",
    "import matplotlib.pyplot as plt\n",
    "import seaborn as sns"
   ]
  },
  {
   "cell_type": "code",
   "execution_count": 6,
   "id": "61a591f2",
   "metadata": {
    "scrolled": false
   },
   "outputs": [
    {
     "data": {
      "text/html": [
       "<style type=\"text/css\">\n",
       "</style>\n",
       "<table id=\"T_d389e_\">\n",
       "  <thead>\n",
       "    <tr>\n",
       "      <th class=\"col_heading level0 col0\" >PassengerId</th>\n",
       "      <th class=\"col_heading level0 col1\" >Survived</th>\n",
       "      <th class=\"col_heading level0 col2\" >Pclass</th>\n",
       "      <th class=\"col_heading level0 col3\" >Name</th>\n",
       "      <th class=\"col_heading level0 col4\" >Sex</th>\n",
       "      <th class=\"col_heading level0 col5\" >Age</th>\n",
       "      <th class=\"col_heading level0 col6\" >SibSp</th>\n",
       "      <th class=\"col_heading level0 col7\" >Parch</th>\n",
       "      <th class=\"col_heading level0 col8\" >Ticket</th>\n",
       "      <th class=\"col_heading level0 col9\" >Fare</th>\n",
       "      <th class=\"col_heading level0 col10\" >Cabin</th>\n",
       "      <th class=\"col_heading level0 col11\" >Embarked</th>\n",
       "    </tr>\n",
       "  </thead>\n",
       "  <tbody>\n",
       "    <tr>\n",
       "      <td id=\"T_d389e_row0_col0\" class=\"data row0 col0\" >1</td>\n",
       "      <td id=\"T_d389e_row0_col1\" class=\"data row0 col1\" >0</td>\n",
       "      <td id=\"T_d389e_row0_col2\" class=\"data row0 col2\" >3</td>\n",
       "      <td id=\"T_d389e_row0_col3\" class=\"data row0 col3\" >Braund, Mr. Owen Harris</td>\n",
       "      <td id=\"T_d389e_row0_col4\" class=\"data row0 col4\" >male</td>\n",
       "      <td id=\"T_d389e_row0_col5\" class=\"data row0 col5\" >22.000000</td>\n",
       "      <td id=\"T_d389e_row0_col6\" class=\"data row0 col6\" >1</td>\n",
       "      <td id=\"T_d389e_row0_col7\" class=\"data row0 col7\" >0</td>\n",
       "      <td id=\"T_d389e_row0_col8\" class=\"data row0 col8\" >A/5 21171</td>\n",
       "      <td id=\"T_d389e_row0_col9\" class=\"data row0 col9\" >7.250000</td>\n",
       "      <td id=\"T_d389e_row0_col10\" class=\"data row0 col10\" >nan</td>\n",
       "      <td id=\"T_d389e_row0_col11\" class=\"data row0 col11\" >S</td>\n",
       "    </tr>\n",
       "    <tr>\n",
       "      <td id=\"T_d389e_row1_col0\" class=\"data row1 col0\" >2</td>\n",
       "      <td id=\"T_d389e_row1_col1\" class=\"data row1 col1\" >1</td>\n",
       "      <td id=\"T_d389e_row1_col2\" class=\"data row1 col2\" >1</td>\n",
       "      <td id=\"T_d389e_row1_col3\" class=\"data row1 col3\" >Cumings, Mrs. John Bradley (Florence Briggs Thayer)</td>\n",
       "      <td id=\"T_d389e_row1_col4\" class=\"data row1 col4\" >female</td>\n",
       "      <td id=\"T_d389e_row1_col5\" class=\"data row1 col5\" >38.000000</td>\n",
       "      <td id=\"T_d389e_row1_col6\" class=\"data row1 col6\" >1</td>\n",
       "      <td id=\"T_d389e_row1_col7\" class=\"data row1 col7\" >0</td>\n",
       "      <td id=\"T_d389e_row1_col8\" class=\"data row1 col8\" >PC 17599</td>\n",
       "      <td id=\"T_d389e_row1_col9\" class=\"data row1 col9\" >71.283300</td>\n",
       "      <td id=\"T_d389e_row1_col10\" class=\"data row1 col10\" >C85</td>\n",
       "      <td id=\"T_d389e_row1_col11\" class=\"data row1 col11\" >C</td>\n",
       "    </tr>\n",
       "    <tr>\n",
       "      <td id=\"T_d389e_row2_col0\" class=\"data row2 col0\" >3</td>\n",
       "      <td id=\"T_d389e_row2_col1\" class=\"data row2 col1\" >1</td>\n",
       "      <td id=\"T_d389e_row2_col2\" class=\"data row2 col2\" >3</td>\n",
       "      <td id=\"T_d389e_row2_col3\" class=\"data row2 col3\" >Heikkinen, Miss. Laina</td>\n",
       "      <td id=\"T_d389e_row2_col4\" class=\"data row2 col4\" >female</td>\n",
       "      <td id=\"T_d389e_row2_col5\" class=\"data row2 col5\" >26.000000</td>\n",
       "      <td id=\"T_d389e_row2_col6\" class=\"data row2 col6\" >0</td>\n",
       "      <td id=\"T_d389e_row2_col7\" class=\"data row2 col7\" >0</td>\n",
       "      <td id=\"T_d389e_row2_col8\" class=\"data row2 col8\" >STON/O2. 3101282</td>\n",
       "      <td id=\"T_d389e_row2_col9\" class=\"data row2 col9\" >7.925000</td>\n",
       "      <td id=\"T_d389e_row2_col10\" class=\"data row2 col10\" >nan</td>\n",
       "      <td id=\"T_d389e_row2_col11\" class=\"data row2 col11\" >S</td>\n",
       "    </tr>\n",
       "    <tr>\n",
       "      <td id=\"T_d389e_row3_col0\" class=\"data row3 col0\" >4</td>\n",
       "      <td id=\"T_d389e_row3_col1\" class=\"data row3 col1\" >1</td>\n",
       "      <td id=\"T_d389e_row3_col2\" class=\"data row3 col2\" >1</td>\n",
       "      <td id=\"T_d389e_row3_col3\" class=\"data row3 col3\" >Futrelle, Mrs. Jacques Heath (Lily May Peel)</td>\n",
       "      <td id=\"T_d389e_row3_col4\" class=\"data row3 col4\" >female</td>\n",
       "      <td id=\"T_d389e_row3_col5\" class=\"data row3 col5\" >35.000000</td>\n",
       "      <td id=\"T_d389e_row3_col6\" class=\"data row3 col6\" >1</td>\n",
       "      <td id=\"T_d389e_row3_col7\" class=\"data row3 col7\" >0</td>\n",
       "      <td id=\"T_d389e_row3_col8\" class=\"data row3 col8\" >113803</td>\n",
       "      <td id=\"T_d389e_row3_col9\" class=\"data row3 col9\" >53.100000</td>\n",
       "      <td id=\"T_d389e_row3_col10\" class=\"data row3 col10\" >C123</td>\n",
       "      <td id=\"T_d389e_row3_col11\" class=\"data row3 col11\" >S</td>\n",
       "    </tr>\n",
       "    <tr>\n",
       "      <td id=\"T_d389e_row4_col0\" class=\"data row4 col0\" >5</td>\n",
       "      <td id=\"T_d389e_row4_col1\" class=\"data row4 col1\" >0</td>\n",
       "      <td id=\"T_d389e_row4_col2\" class=\"data row4 col2\" >3</td>\n",
       "      <td id=\"T_d389e_row4_col3\" class=\"data row4 col3\" >Allen, Mr. William Henry</td>\n",
       "      <td id=\"T_d389e_row4_col4\" class=\"data row4 col4\" >male</td>\n",
       "      <td id=\"T_d389e_row4_col5\" class=\"data row4 col5\" >35.000000</td>\n",
       "      <td id=\"T_d389e_row4_col6\" class=\"data row4 col6\" >0</td>\n",
       "      <td id=\"T_d389e_row4_col7\" class=\"data row4 col7\" >0</td>\n",
       "      <td id=\"T_d389e_row4_col8\" class=\"data row4 col8\" >373450</td>\n",
       "      <td id=\"T_d389e_row4_col9\" class=\"data row4 col9\" >8.050000</td>\n",
       "      <td id=\"T_d389e_row4_col10\" class=\"data row4 col10\" >nan</td>\n",
       "      <td id=\"T_d389e_row4_col11\" class=\"data row4 col11\" >S</td>\n",
       "    </tr>\n",
       "  </tbody>\n",
       "</table>\n"
      ],
      "text/plain": [
       "<pandas.io.formats.style.Styler at 0x1f9900d53d0>"
      ]
     },
     "execution_count": 6,
     "metadata": {},
     "output_type": "execute_result"
    }
   ],
   "source": [
    "df = pd.read_csv('titanic_data.csv')\n",
    "df.head().style.hide_index()\n"
   ]
  },
  {
   "cell_type": "markdown",
   "id": "1bdb7b97",
   "metadata": {},
   "source": [
    "## Handling Missing Values"
   ]
  },
  {
   "cell_type": "markdown",
   "id": "be2ca844",
   "metadata": {},
   "source": [
    "##### Create a new dataframe by dropping all rows with NaN in the Age column"
   ]
  },
  {
   "cell_type": "code",
   "execution_count": 3,
   "id": "1e8a17f7",
   "metadata": {
    "scrolled": true
   },
   "outputs": [
    {
     "data": {
      "text/html": [
       "<div>\n",
       "<style scoped>\n",
       "    .dataframe tbody tr th:only-of-type {\n",
       "        vertical-align: middle;\n",
       "    }\n",
       "\n",
       "    .dataframe tbody tr th {\n",
       "        vertical-align: top;\n",
       "    }\n",
       "\n",
       "    .dataframe thead th {\n",
       "        text-align: right;\n",
       "    }\n",
       "</style>\n",
       "<table border=\"1\" class=\"dataframe\">\n",
       "  <thead>\n",
       "    <tr style=\"text-align: right;\">\n",
       "      <th></th>\n",
       "      <th>PassengerId</th>\n",
       "      <th>Survived</th>\n",
       "      <th>Pclass</th>\n",
       "      <th>Name</th>\n",
       "      <th>Sex</th>\n",
       "      <th>Age</th>\n",
       "      <th>SibSp</th>\n",
       "      <th>Parch</th>\n",
       "      <th>Ticket</th>\n",
       "      <th>Fare</th>\n",
       "      <th>Cabin</th>\n",
       "      <th>Embarked</th>\n",
       "    </tr>\n",
       "  </thead>\n",
       "  <tbody>\n",
       "    <tr>\n",
       "      <th>0</th>\n",
       "      <td>1</td>\n",
       "      <td>0</td>\n",
       "      <td>3</td>\n",
       "      <td>Braund, Mr. Owen Harris</td>\n",
       "      <td>male</td>\n",
       "      <td>22.0</td>\n",
       "      <td>1</td>\n",
       "      <td>0</td>\n",
       "      <td>A/5 21171</td>\n",
       "      <td>7.2500</td>\n",
       "      <td>NaN</td>\n",
       "      <td>S</td>\n",
       "    </tr>\n",
       "    <tr>\n",
       "      <th>1</th>\n",
       "      <td>2</td>\n",
       "      <td>1</td>\n",
       "      <td>1</td>\n",
       "      <td>Cumings, Mrs. John Bradley (Florence Briggs Th...</td>\n",
       "      <td>female</td>\n",
       "      <td>38.0</td>\n",
       "      <td>1</td>\n",
       "      <td>0</td>\n",
       "      <td>PC 17599</td>\n",
       "      <td>71.2833</td>\n",
       "      <td>C85</td>\n",
       "      <td>C</td>\n",
       "    </tr>\n",
       "    <tr>\n",
       "      <th>2</th>\n",
       "      <td>3</td>\n",
       "      <td>1</td>\n",
       "      <td>3</td>\n",
       "      <td>Heikkinen, Miss. Laina</td>\n",
       "      <td>female</td>\n",
       "      <td>26.0</td>\n",
       "      <td>0</td>\n",
       "      <td>0</td>\n",
       "      <td>STON/O2. 3101282</td>\n",
       "      <td>7.9250</td>\n",
       "      <td>NaN</td>\n",
       "      <td>S</td>\n",
       "    </tr>\n",
       "    <tr>\n",
       "      <th>3</th>\n",
       "      <td>4</td>\n",
       "      <td>1</td>\n",
       "      <td>1</td>\n",
       "      <td>Futrelle, Mrs. Jacques Heath (Lily May Peel)</td>\n",
       "      <td>female</td>\n",
       "      <td>35.0</td>\n",
       "      <td>1</td>\n",
       "      <td>0</td>\n",
       "      <td>113803</td>\n",
       "      <td>53.1000</td>\n",
       "      <td>C123</td>\n",
       "      <td>S</td>\n",
       "    </tr>\n",
       "    <tr>\n",
       "      <th>4</th>\n",
       "      <td>5</td>\n",
       "      <td>0</td>\n",
       "      <td>3</td>\n",
       "      <td>Allen, Mr. William Henry</td>\n",
       "      <td>male</td>\n",
       "      <td>35.0</td>\n",
       "      <td>0</td>\n",
       "      <td>0</td>\n",
       "      <td>373450</td>\n",
       "      <td>8.0500</td>\n",
       "      <td>NaN</td>\n",
       "      <td>S</td>\n",
       "    </tr>\n",
       "  </tbody>\n",
       "</table>\n",
       "</div>"
      ],
      "text/plain": [
       "   PassengerId  Survived  Pclass  \\\n",
       "0            1         0       3   \n",
       "1            2         1       1   \n",
       "2            3         1       3   \n",
       "3            4         1       1   \n",
       "4            5         0       3   \n",
       "\n",
       "                                                Name     Sex   Age  SibSp  \\\n",
       "0                            Braund, Mr. Owen Harris    male  22.0      1   \n",
       "1  Cumings, Mrs. John Bradley (Florence Briggs Th...  female  38.0      1   \n",
       "2                             Heikkinen, Miss. Laina  female  26.0      0   \n",
       "3       Futrelle, Mrs. Jacques Heath (Lily May Peel)  female  35.0      1   \n",
       "4                           Allen, Mr. William Henry    male  35.0      0   \n",
       "\n",
       "   Parch            Ticket     Fare Cabin Embarked  \n",
       "0      0         A/5 21171   7.2500   NaN        S  \n",
       "1      0          PC 17599  71.2833   C85        C  \n",
       "2      0  STON/O2. 3101282   7.9250   NaN        S  \n",
       "3      0            113803  53.1000  C123        S  \n",
       "4      0            373450   8.0500   NaN        S  "
      ]
     },
     "execution_count": 3,
     "metadata": {},
     "output_type": "execute_result"
    }
   ],
   "source": [
    "new_df = df.dropna(subset=['Age'])\n",
    "\n",
    "new_df.head()"
   ]
  },
  {
   "cell_type": "markdown",
   "id": "7dc90d99",
   "metadata": {},
   "source": [
    "##### Separate the new dataframe into two based on gender"
   ]
  },
  {
   "cell_type": "code",
   "execution_count": 4,
   "id": "377f7770",
   "metadata": {},
   "outputs": [
    {
     "data": {
      "text/html": [
       "<div>\n",
       "<style scoped>\n",
       "    .dataframe tbody tr th:only-of-type {\n",
       "        vertical-align: middle;\n",
       "    }\n",
       "\n",
       "    .dataframe tbody tr th {\n",
       "        vertical-align: top;\n",
       "    }\n",
       "\n",
       "    .dataframe thead th {\n",
       "        text-align: right;\n",
       "    }\n",
       "</style>\n",
       "<table border=\"1\" class=\"dataframe\">\n",
       "  <thead>\n",
       "    <tr style=\"text-align: right;\">\n",
       "      <th></th>\n",
       "      <th>PassengerId</th>\n",
       "      <th>Survived</th>\n",
       "      <th>Pclass</th>\n",
       "      <th>Name</th>\n",
       "      <th>Sex</th>\n",
       "      <th>Age</th>\n",
       "      <th>SibSp</th>\n",
       "      <th>Parch</th>\n",
       "      <th>Ticket</th>\n",
       "      <th>Fare</th>\n",
       "      <th>Cabin</th>\n",
       "      <th>Embarked</th>\n",
       "    </tr>\n",
       "  </thead>\n",
       "  <tbody>\n",
       "    <tr>\n",
       "      <th>0</th>\n",
       "      <td>1</td>\n",
       "      <td>0</td>\n",
       "      <td>3</td>\n",
       "      <td>Braund, Mr. Owen Harris</td>\n",
       "      <td>male</td>\n",
       "      <td>22.0</td>\n",
       "      <td>1</td>\n",
       "      <td>0</td>\n",
       "      <td>A/5 21171</td>\n",
       "      <td>7.2500</td>\n",
       "      <td>NaN</td>\n",
       "      <td>S</td>\n",
       "    </tr>\n",
       "    <tr>\n",
       "      <th>4</th>\n",
       "      <td>5</td>\n",
       "      <td>0</td>\n",
       "      <td>3</td>\n",
       "      <td>Allen, Mr. William Henry</td>\n",
       "      <td>male</td>\n",
       "      <td>35.0</td>\n",
       "      <td>0</td>\n",
       "      <td>0</td>\n",
       "      <td>373450</td>\n",
       "      <td>8.0500</td>\n",
       "      <td>NaN</td>\n",
       "      <td>S</td>\n",
       "    </tr>\n",
       "    <tr>\n",
       "      <th>6</th>\n",
       "      <td>7</td>\n",
       "      <td>0</td>\n",
       "      <td>1</td>\n",
       "      <td>McCarthy, Mr. Timothy J</td>\n",
       "      <td>male</td>\n",
       "      <td>54.0</td>\n",
       "      <td>0</td>\n",
       "      <td>0</td>\n",
       "      <td>17463</td>\n",
       "      <td>51.8625</td>\n",
       "      <td>E46</td>\n",
       "      <td>S</td>\n",
       "    </tr>\n",
       "    <tr>\n",
       "      <th>7</th>\n",
       "      <td>8</td>\n",
       "      <td>0</td>\n",
       "      <td>3</td>\n",
       "      <td>Palsson, Master. Gosta Leonard</td>\n",
       "      <td>male</td>\n",
       "      <td>2.0</td>\n",
       "      <td>3</td>\n",
       "      <td>1</td>\n",
       "      <td>349909</td>\n",
       "      <td>21.0750</td>\n",
       "      <td>NaN</td>\n",
       "      <td>S</td>\n",
       "    </tr>\n",
       "    <tr>\n",
       "      <th>12</th>\n",
       "      <td>13</td>\n",
       "      <td>0</td>\n",
       "      <td>3</td>\n",
       "      <td>Saundercock, Mr. William Henry</td>\n",
       "      <td>male</td>\n",
       "      <td>20.0</td>\n",
       "      <td>0</td>\n",
       "      <td>0</td>\n",
       "      <td>A/5. 2151</td>\n",
       "      <td>8.0500</td>\n",
       "      <td>NaN</td>\n",
       "      <td>S</td>\n",
       "    </tr>\n",
       "  </tbody>\n",
       "</table>\n",
       "</div>"
      ],
      "text/plain": [
       "    PassengerId  Survived  Pclass                            Name   Sex   Age  \\\n",
       "0             1         0       3         Braund, Mr. Owen Harris  male  22.0   \n",
       "4             5         0       3        Allen, Mr. William Henry  male  35.0   \n",
       "6             7         0       1         McCarthy, Mr. Timothy J  male  54.0   \n",
       "7             8         0       3  Palsson, Master. Gosta Leonard  male   2.0   \n",
       "12           13         0       3  Saundercock, Mr. William Henry  male  20.0   \n",
       "\n",
       "    SibSp  Parch     Ticket     Fare Cabin Embarked  \n",
       "0       1      0  A/5 21171   7.2500   NaN        S  \n",
       "4       0      0     373450   8.0500   NaN        S  \n",
       "6       0      0      17463  51.8625   E46        S  \n",
       "7       3      1     349909  21.0750   NaN        S  \n",
       "12      0      0  A/5. 2151   8.0500   NaN        S  "
      ]
     },
     "execution_count": 4,
     "metadata": {},
     "output_type": "execute_result"
    }
   ],
   "source": [
    "male_passengers_df = new_df[new_df['Sex'] == 'male']\n",
    "male_passengers_df.head()"
   ]
  },
  {
   "cell_type": "code",
   "execution_count": 5,
   "id": "09723052",
   "metadata": {
    "scrolled": true
   },
   "outputs": [
    {
     "data": {
      "text/html": [
       "<div>\n",
       "<style scoped>\n",
       "    .dataframe tbody tr th:only-of-type {\n",
       "        vertical-align: middle;\n",
       "    }\n",
       "\n",
       "    .dataframe tbody tr th {\n",
       "        vertical-align: top;\n",
       "    }\n",
       "\n",
       "    .dataframe thead th {\n",
       "        text-align: right;\n",
       "    }\n",
       "</style>\n",
       "<table border=\"1\" class=\"dataframe\">\n",
       "  <thead>\n",
       "    <tr style=\"text-align: right;\">\n",
       "      <th></th>\n",
       "      <th>PassengerId</th>\n",
       "      <th>Survived</th>\n",
       "      <th>Pclass</th>\n",
       "      <th>Name</th>\n",
       "      <th>Sex</th>\n",
       "      <th>Age</th>\n",
       "      <th>SibSp</th>\n",
       "      <th>Parch</th>\n",
       "      <th>Ticket</th>\n",
       "      <th>Fare</th>\n",
       "      <th>Cabin</th>\n",
       "      <th>Embarked</th>\n",
       "    </tr>\n",
       "  </thead>\n",
       "  <tbody>\n",
       "    <tr>\n",
       "      <th>1</th>\n",
       "      <td>2</td>\n",
       "      <td>1</td>\n",
       "      <td>1</td>\n",
       "      <td>Cumings, Mrs. John Bradley (Florence Briggs Th...</td>\n",
       "      <td>female</td>\n",
       "      <td>38.0</td>\n",
       "      <td>1</td>\n",
       "      <td>0</td>\n",
       "      <td>PC 17599</td>\n",
       "      <td>71.2833</td>\n",
       "      <td>C85</td>\n",
       "      <td>C</td>\n",
       "    </tr>\n",
       "    <tr>\n",
       "      <th>2</th>\n",
       "      <td>3</td>\n",
       "      <td>1</td>\n",
       "      <td>3</td>\n",
       "      <td>Heikkinen, Miss. Laina</td>\n",
       "      <td>female</td>\n",
       "      <td>26.0</td>\n",
       "      <td>0</td>\n",
       "      <td>0</td>\n",
       "      <td>STON/O2. 3101282</td>\n",
       "      <td>7.9250</td>\n",
       "      <td>NaN</td>\n",
       "      <td>S</td>\n",
       "    </tr>\n",
       "    <tr>\n",
       "      <th>3</th>\n",
       "      <td>4</td>\n",
       "      <td>1</td>\n",
       "      <td>1</td>\n",
       "      <td>Futrelle, Mrs. Jacques Heath (Lily May Peel)</td>\n",
       "      <td>female</td>\n",
       "      <td>35.0</td>\n",
       "      <td>1</td>\n",
       "      <td>0</td>\n",
       "      <td>113803</td>\n",
       "      <td>53.1000</td>\n",
       "      <td>C123</td>\n",
       "      <td>S</td>\n",
       "    </tr>\n",
       "    <tr>\n",
       "      <th>8</th>\n",
       "      <td>9</td>\n",
       "      <td>1</td>\n",
       "      <td>3</td>\n",
       "      <td>Johnson, Mrs. Oscar W (Elisabeth Vilhelmina Berg)</td>\n",
       "      <td>female</td>\n",
       "      <td>27.0</td>\n",
       "      <td>0</td>\n",
       "      <td>2</td>\n",
       "      <td>347742</td>\n",
       "      <td>11.1333</td>\n",
       "      <td>NaN</td>\n",
       "      <td>S</td>\n",
       "    </tr>\n",
       "    <tr>\n",
       "      <th>9</th>\n",
       "      <td>10</td>\n",
       "      <td>1</td>\n",
       "      <td>2</td>\n",
       "      <td>Nasser, Mrs. Nicholas (Adele Achem)</td>\n",
       "      <td>female</td>\n",
       "      <td>14.0</td>\n",
       "      <td>1</td>\n",
       "      <td>0</td>\n",
       "      <td>237736</td>\n",
       "      <td>30.0708</td>\n",
       "      <td>NaN</td>\n",
       "      <td>C</td>\n",
       "    </tr>\n",
       "  </tbody>\n",
       "</table>\n",
       "</div>"
      ],
      "text/plain": [
       "   PassengerId  Survived  Pclass  \\\n",
       "1            2         1       1   \n",
       "2            3         1       3   \n",
       "3            4         1       1   \n",
       "8            9         1       3   \n",
       "9           10         1       2   \n",
       "\n",
       "                                                Name     Sex   Age  SibSp  \\\n",
       "1  Cumings, Mrs. John Bradley (Florence Briggs Th...  female  38.0      1   \n",
       "2                             Heikkinen, Miss. Laina  female  26.0      0   \n",
       "3       Futrelle, Mrs. Jacques Heath (Lily May Peel)  female  35.0      1   \n",
       "8  Johnson, Mrs. Oscar W (Elisabeth Vilhelmina Berg)  female  27.0      0   \n",
       "9                Nasser, Mrs. Nicholas (Adele Achem)  female  14.0      1   \n",
       "\n",
       "   Parch            Ticket     Fare Cabin Embarked  \n",
       "1      0          PC 17599  71.2833   C85        C  \n",
       "2      0  STON/O2. 3101282   7.9250   NaN        S  \n",
       "3      0            113803  53.1000  C123        S  \n",
       "8      2            347742  11.1333   NaN        S  \n",
       "9      0            237736  30.0708   NaN        C  "
      ]
     },
     "execution_count": 5,
     "metadata": {},
     "output_type": "execute_result"
    }
   ],
   "source": [
    "female_passengers_df = new_df[new_df['Sex'] == 'female']\n",
    "female_passengers_df.head()"
   ]
  },
  {
   "cell_type": "markdown",
   "id": "906fe322",
   "metadata": {},
   "source": [
    "##### Determine the average age for each gender"
   ]
  },
  {
   "cell_type": "code",
   "execution_count": 6,
   "id": "02cc8f68",
   "metadata": {},
   "outputs": [
    {
     "name": "stdout",
     "output_type": "stream",
     "text": [
      "31.0\n",
      "28.0\n"
     ]
    }
   ],
   "source": [
    "\n",
    "import math\n",
    "\n",
    "average_age_male = float(math.ceil(male_passengers_df['Age'].mean())) # Round up the mean age value obtained \n",
    "average_age_female = float(math.ceil(female_passengers_df['Age'].mean())) # Round up the mean age value obtained \n",
    "\n",
    "print(average_age_male)\n",
    "print(average_age_female)"
   ]
  },
  {
   "cell_type": "markdown",
   "id": "a284ec47",
   "metadata": {},
   "source": [
    "##### Replace missing ages in original dataframe with average age (with respect to gender)"
   ]
  },
  {
   "cell_type": "code",
   "execution_count": 7,
   "id": "c8c79d33",
   "metadata": {
    "scrolled": true
   },
   "outputs": [
    {
     "data": {
      "text/html": [
       "<div>\n",
       "<style scoped>\n",
       "    .dataframe tbody tr th:only-of-type {\n",
       "        vertical-align: middle;\n",
       "    }\n",
       "\n",
       "    .dataframe tbody tr th {\n",
       "        vertical-align: top;\n",
       "    }\n",
       "\n",
       "    .dataframe thead th {\n",
       "        text-align: right;\n",
       "    }\n",
       "</style>\n",
       "<table border=\"1\" class=\"dataframe\">\n",
       "  <thead>\n",
       "    <tr style=\"text-align: right;\">\n",
       "      <th></th>\n",
       "      <th>PassengerId</th>\n",
       "      <th>Survived</th>\n",
       "      <th>Pclass</th>\n",
       "      <th>Name</th>\n",
       "      <th>Sex</th>\n",
       "      <th>Age</th>\n",
       "      <th>SibSp</th>\n",
       "      <th>Parch</th>\n",
       "      <th>Ticket</th>\n",
       "      <th>Fare</th>\n",
       "      <th>Cabin</th>\n",
       "      <th>Embarked</th>\n",
       "    </tr>\n",
       "  </thead>\n",
       "  <tbody>\n",
       "    <tr>\n",
       "      <th>0</th>\n",
       "      <td>1</td>\n",
       "      <td>0</td>\n",
       "      <td>3</td>\n",
       "      <td>Braund, Mr. Owen Harris</td>\n",
       "      <td>male</td>\n",
       "      <td>22.0</td>\n",
       "      <td>1</td>\n",
       "      <td>0</td>\n",
       "      <td>A/5 21171</td>\n",
       "      <td>7.2500</td>\n",
       "      <td>NaN</td>\n",
       "      <td>S</td>\n",
       "    </tr>\n",
       "    <tr>\n",
       "      <th>1</th>\n",
       "      <td>2</td>\n",
       "      <td>1</td>\n",
       "      <td>1</td>\n",
       "      <td>Cumings, Mrs. John Bradley (Florence Briggs Th...</td>\n",
       "      <td>female</td>\n",
       "      <td>38.0</td>\n",
       "      <td>1</td>\n",
       "      <td>0</td>\n",
       "      <td>PC 17599</td>\n",
       "      <td>71.2833</td>\n",
       "      <td>C85</td>\n",
       "      <td>C</td>\n",
       "    </tr>\n",
       "    <tr>\n",
       "      <th>2</th>\n",
       "      <td>3</td>\n",
       "      <td>1</td>\n",
       "      <td>3</td>\n",
       "      <td>Heikkinen, Miss. Laina</td>\n",
       "      <td>female</td>\n",
       "      <td>26.0</td>\n",
       "      <td>0</td>\n",
       "      <td>0</td>\n",
       "      <td>STON/O2. 3101282</td>\n",
       "      <td>7.9250</td>\n",
       "      <td>NaN</td>\n",
       "      <td>S</td>\n",
       "    </tr>\n",
       "    <tr>\n",
       "      <th>3</th>\n",
       "      <td>4</td>\n",
       "      <td>1</td>\n",
       "      <td>1</td>\n",
       "      <td>Futrelle, Mrs. Jacques Heath (Lily May Peel)</td>\n",
       "      <td>female</td>\n",
       "      <td>35.0</td>\n",
       "      <td>1</td>\n",
       "      <td>0</td>\n",
       "      <td>113803</td>\n",
       "      <td>53.1000</td>\n",
       "      <td>C123</td>\n",
       "      <td>S</td>\n",
       "    </tr>\n",
       "    <tr>\n",
       "      <th>4</th>\n",
       "      <td>5</td>\n",
       "      <td>0</td>\n",
       "      <td>3</td>\n",
       "      <td>Allen, Mr. William Henry</td>\n",
       "      <td>male</td>\n",
       "      <td>35.0</td>\n",
       "      <td>0</td>\n",
       "      <td>0</td>\n",
       "      <td>373450</td>\n",
       "      <td>8.0500</td>\n",
       "      <td>NaN</td>\n",
       "      <td>S</td>\n",
       "    </tr>\n",
       "  </tbody>\n",
       "</table>\n",
       "</div>"
      ],
      "text/plain": [
       "   PassengerId  Survived  Pclass  \\\n",
       "0            1         0       3   \n",
       "1            2         1       1   \n",
       "2            3         1       3   \n",
       "3            4         1       1   \n",
       "4            5         0       3   \n",
       "\n",
       "                                                Name     Sex   Age  SibSp  \\\n",
       "0                            Braund, Mr. Owen Harris    male  22.0      1   \n",
       "1  Cumings, Mrs. John Bradley (Florence Briggs Th...  female  38.0      1   \n",
       "2                             Heikkinen, Miss. Laina  female  26.0      0   \n",
       "3       Futrelle, Mrs. Jacques Heath (Lily May Peel)  female  35.0      1   \n",
       "4                           Allen, Mr. William Henry    male  35.0      0   \n",
       "\n",
       "   Parch            Ticket     Fare Cabin Embarked  \n",
       "0      0         A/5 21171   7.2500   NaN        S  \n",
       "1      0          PC 17599  71.2833   C85        C  \n",
       "2      0  STON/O2. 3101282   7.9250   NaN        S  \n",
       "3      0            113803  53.1000  C123        S  \n",
       "4      0            373450   8.0500   NaN        S  "
      ]
     },
     "execution_count": 7,
     "metadata": {},
     "output_type": "execute_result"
    }
   ],
   "source": [
    "titanic_df = df.fillna({'Age': 0})\n",
    "titanic_df['Age'] = np.where((titanic_df['Sex'] == 'male') & (titanic_df['Age'] == 0), average_age_male, titanic_df['Age'])\n",
    "titanic_df['Age'] = np.where((titanic_df['Sex'] == 'female') & (titanic_df['Age'] == 0), average_age_female, titanic_df['Age'])\n",
    "\n",
    "titanic_df.head()\n"
   ]
  },
  {
   "cell_type": "markdown",
   "id": "15854b85",
   "metadata": {},
   "source": [
    "## Augment Data with additional columns"
   ]
  },
  {
   "cell_type": "markdown",
   "id": "1540e43a",
   "metadata": {},
   "source": [
    "##### Create Female column to categorise sex as a numerical variable  with Female = 1, Male = 0\n",
    "\n",
    "Rationale: To determine correlation "
   ]
  },
  {
   "cell_type": "code",
   "execution_count": 8,
   "id": "85d3596e",
   "metadata": {
    "scrolled": true
   },
   "outputs": [
    {
     "data": {
      "text/html": [
       "<div>\n",
       "<style scoped>\n",
       "    .dataframe tbody tr th:only-of-type {\n",
       "        vertical-align: middle;\n",
       "    }\n",
       "\n",
       "    .dataframe tbody tr th {\n",
       "        vertical-align: top;\n",
       "    }\n",
       "\n",
       "    .dataframe thead th {\n",
       "        text-align: right;\n",
       "    }\n",
       "</style>\n",
       "<table border=\"1\" class=\"dataframe\">\n",
       "  <thead>\n",
       "    <tr style=\"text-align: right;\">\n",
       "      <th></th>\n",
       "      <th>PassengerId</th>\n",
       "      <th>Survived</th>\n",
       "      <th>Pclass</th>\n",
       "      <th>Name</th>\n",
       "      <th>Sex</th>\n",
       "      <th>Age</th>\n",
       "      <th>SibSp</th>\n",
       "      <th>Parch</th>\n",
       "      <th>Ticket</th>\n",
       "      <th>Fare</th>\n",
       "      <th>Cabin</th>\n",
       "      <th>Embarked</th>\n",
       "      <th>Female</th>\n",
       "    </tr>\n",
       "  </thead>\n",
       "  <tbody>\n",
       "    <tr>\n",
       "      <th>0</th>\n",
       "      <td>1</td>\n",
       "      <td>0</td>\n",
       "      <td>3</td>\n",
       "      <td>Braund, Mr. Owen Harris</td>\n",
       "      <td>male</td>\n",
       "      <td>22.0</td>\n",
       "      <td>1</td>\n",
       "      <td>0</td>\n",
       "      <td>A/5 21171</td>\n",
       "      <td>7.2500</td>\n",
       "      <td>NaN</td>\n",
       "      <td>S</td>\n",
       "      <td>0</td>\n",
       "    </tr>\n",
       "    <tr>\n",
       "      <th>1</th>\n",
       "      <td>2</td>\n",
       "      <td>1</td>\n",
       "      <td>1</td>\n",
       "      <td>Cumings, Mrs. John Bradley (Florence Briggs Th...</td>\n",
       "      <td>female</td>\n",
       "      <td>38.0</td>\n",
       "      <td>1</td>\n",
       "      <td>0</td>\n",
       "      <td>PC 17599</td>\n",
       "      <td>71.2833</td>\n",
       "      <td>C85</td>\n",
       "      <td>C</td>\n",
       "      <td>1</td>\n",
       "    </tr>\n",
       "    <tr>\n",
       "      <th>2</th>\n",
       "      <td>3</td>\n",
       "      <td>1</td>\n",
       "      <td>3</td>\n",
       "      <td>Heikkinen, Miss. Laina</td>\n",
       "      <td>female</td>\n",
       "      <td>26.0</td>\n",
       "      <td>0</td>\n",
       "      <td>0</td>\n",
       "      <td>STON/O2. 3101282</td>\n",
       "      <td>7.9250</td>\n",
       "      <td>NaN</td>\n",
       "      <td>S</td>\n",
       "      <td>1</td>\n",
       "    </tr>\n",
       "    <tr>\n",
       "      <th>3</th>\n",
       "      <td>4</td>\n",
       "      <td>1</td>\n",
       "      <td>1</td>\n",
       "      <td>Futrelle, Mrs. Jacques Heath (Lily May Peel)</td>\n",
       "      <td>female</td>\n",
       "      <td>35.0</td>\n",
       "      <td>1</td>\n",
       "      <td>0</td>\n",
       "      <td>113803</td>\n",
       "      <td>53.1000</td>\n",
       "      <td>C123</td>\n",
       "      <td>S</td>\n",
       "      <td>1</td>\n",
       "    </tr>\n",
       "    <tr>\n",
       "      <th>4</th>\n",
       "      <td>5</td>\n",
       "      <td>0</td>\n",
       "      <td>3</td>\n",
       "      <td>Allen, Mr. William Henry</td>\n",
       "      <td>male</td>\n",
       "      <td>35.0</td>\n",
       "      <td>0</td>\n",
       "      <td>0</td>\n",
       "      <td>373450</td>\n",
       "      <td>8.0500</td>\n",
       "      <td>NaN</td>\n",
       "      <td>S</td>\n",
       "      <td>0</td>\n",
       "    </tr>\n",
       "  </tbody>\n",
       "</table>\n",
       "</div>"
      ],
      "text/plain": [
       "   PassengerId  Survived  Pclass  \\\n",
       "0            1         0       3   \n",
       "1            2         1       1   \n",
       "2            3         1       3   \n",
       "3            4         1       1   \n",
       "4            5         0       3   \n",
       "\n",
       "                                                Name     Sex   Age  SibSp  \\\n",
       "0                            Braund, Mr. Owen Harris    male  22.0      1   \n",
       "1  Cumings, Mrs. John Bradley (Florence Briggs Th...  female  38.0      1   \n",
       "2                             Heikkinen, Miss. Laina  female  26.0      0   \n",
       "3       Futrelle, Mrs. Jacques Heath (Lily May Peel)  female  35.0      1   \n",
       "4                           Allen, Mr. William Henry    male  35.0      0   \n",
       "\n",
       "   Parch            Ticket     Fare Cabin Embarked  Female  \n",
       "0      0         A/5 21171   7.2500   NaN        S       0  \n",
       "1      0          PC 17599  71.2833   C85        C       1  \n",
       "2      0  STON/O2. 3101282   7.9250   NaN        S       1  \n",
       "3      0            113803  53.1000  C123        S       1  \n",
       "4      0            373450   8.0500   NaN        S       0  "
      ]
     },
     "execution_count": 8,
     "metadata": {},
     "output_type": "execute_result"
    }
   ],
   "source": [
    "titanic_df['Female'] = np.where((titanic_df['Sex'] == 'male'), 0, 1)\n",
    "\n",
    "#titanic_df = titanic_df.drop(columns='Gender')\n",
    "titanic_df.head()"
   ]
  },
  {
   "cell_type": "markdown",
   "id": "d30d95bd",
   "metadata": {},
   "source": [
    "##### Fill the NaN values in Cabin column with NG (Not Given)\n",
    "\n",
    "Supply reasoning for this"
   ]
  },
  {
   "cell_type": "code",
   "execution_count": 9,
   "id": "5d6114c9",
   "metadata": {
    "scrolled": true
   },
   "outputs": [
    {
     "data": {
      "text/html": [
       "<div>\n",
       "<style scoped>\n",
       "    .dataframe tbody tr th:only-of-type {\n",
       "        vertical-align: middle;\n",
       "    }\n",
       "\n",
       "    .dataframe tbody tr th {\n",
       "        vertical-align: top;\n",
       "    }\n",
       "\n",
       "    .dataframe thead th {\n",
       "        text-align: right;\n",
       "    }\n",
       "</style>\n",
       "<table border=\"1\" class=\"dataframe\">\n",
       "  <thead>\n",
       "    <tr style=\"text-align: right;\">\n",
       "      <th></th>\n",
       "      <th>PassengerId</th>\n",
       "      <th>Survived</th>\n",
       "      <th>Pclass</th>\n",
       "      <th>Name</th>\n",
       "      <th>Sex</th>\n",
       "      <th>Age</th>\n",
       "      <th>SibSp</th>\n",
       "      <th>Parch</th>\n",
       "      <th>Ticket</th>\n",
       "      <th>Fare</th>\n",
       "      <th>Cabin</th>\n",
       "      <th>Embarked</th>\n",
       "      <th>Female</th>\n",
       "    </tr>\n",
       "  </thead>\n",
       "  <tbody>\n",
       "    <tr>\n",
       "      <th>0</th>\n",
       "      <td>1</td>\n",
       "      <td>0</td>\n",
       "      <td>3</td>\n",
       "      <td>Braund, Mr. Owen Harris</td>\n",
       "      <td>male</td>\n",
       "      <td>22.0</td>\n",
       "      <td>1</td>\n",
       "      <td>0</td>\n",
       "      <td>A/5 21171</td>\n",
       "      <td>7.2500</td>\n",
       "      <td>NG</td>\n",
       "      <td>S</td>\n",
       "      <td>0</td>\n",
       "    </tr>\n",
       "    <tr>\n",
       "      <th>1</th>\n",
       "      <td>2</td>\n",
       "      <td>1</td>\n",
       "      <td>1</td>\n",
       "      <td>Cumings, Mrs. John Bradley (Florence Briggs Th...</td>\n",
       "      <td>female</td>\n",
       "      <td>38.0</td>\n",
       "      <td>1</td>\n",
       "      <td>0</td>\n",
       "      <td>PC 17599</td>\n",
       "      <td>71.2833</td>\n",
       "      <td>C85</td>\n",
       "      <td>C</td>\n",
       "      <td>1</td>\n",
       "    </tr>\n",
       "    <tr>\n",
       "      <th>2</th>\n",
       "      <td>3</td>\n",
       "      <td>1</td>\n",
       "      <td>3</td>\n",
       "      <td>Heikkinen, Miss. Laina</td>\n",
       "      <td>female</td>\n",
       "      <td>26.0</td>\n",
       "      <td>0</td>\n",
       "      <td>0</td>\n",
       "      <td>STON/O2. 3101282</td>\n",
       "      <td>7.9250</td>\n",
       "      <td>NG</td>\n",
       "      <td>S</td>\n",
       "      <td>1</td>\n",
       "    </tr>\n",
       "    <tr>\n",
       "      <th>3</th>\n",
       "      <td>4</td>\n",
       "      <td>1</td>\n",
       "      <td>1</td>\n",
       "      <td>Futrelle, Mrs. Jacques Heath (Lily May Peel)</td>\n",
       "      <td>female</td>\n",
       "      <td>35.0</td>\n",
       "      <td>1</td>\n",
       "      <td>0</td>\n",
       "      <td>113803</td>\n",
       "      <td>53.1000</td>\n",
       "      <td>C123</td>\n",
       "      <td>S</td>\n",
       "      <td>1</td>\n",
       "    </tr>\n",
       "    <tr>\n",
       "      <th>4</th>\n",
       "      <td>5</td>\n",
       "      <td>0</td>\n",
       "      <td>3</td>\n",
       "      <td>Allen, Mr. William Henry</td>\n",
       "      <td>male</td>\n",
       "      <td>35.0</td>\n",
       "      <td>0</td>\n",
       "      <td>0</td>\n",
       "      <td>373450</td>\n",
       "      <td>8.0500</td>\n",
       "      <td>NG</td>\n",
       "      <td>S</td>\n",
       "      <td>0</td>\n",
       "    </tr>\n",
       "  </tbody>\n",
       "</table>\n",
       "</div>"
      ],
      "text/plain": [
       "   PassengerId  Survived  Pclass  \\\n",
       "0            1         0       3   \n",
       "1            2         1       1   \n",
       "2            3         1       3   \n",
       "3            4         1       1   \n",
       "4            5         0       3   \n",
       "\n",
       "                                                Name     Sex   Age  SibSp  \\\n",
       "0                            Braund, Mr. Owen Harris    male  22.0      1   \n",
       "1  Cumings, Mrs. John Bradley (Florence Briggs Th...  female  38.0      1   \n",
       "2                             Heikkinen, Miss. Laina  female  26.0      0   \n",
       "3       Futrelle, Mrs. Jacques Heath (Lily May Peel)  female  35.0      1   \n",
       "4                           Allen, Mr. William Henry    male  35.0      0   \n",
       "\n",
       "   Parch            Ticket     Fare Cabin Embarked  Female  \n",
       "0      0         A/5 21171   7.2500    NG        S       0  \n",
       "1      0          PC 17599  71.2833   C85        C       1  \n",
       "2      0  STON/O2. 3101282   7.9250    NG        S       1  \n",
       "3      0            113803  53.1000  C123        S       1  \n",
       "4      0            373450   8.0500    NG        S       0  "
      ]
     },
     "execution_count": 9,
     "metadata": {},
     "output_type": "execute_result"
    }
   ],
   "source": [
    "titanic_df = titanic_df.fillna({'Cabin': 'NG'})\n",
    "titanic_df.head()"
   ]
  },
  {
   "cell_type": "markdown",
   "id": "aa3826ca",
   "metadata": {},
   "source": [
    "## Data Exploration"
   ]
  },
  {
   "cell_type": "markdown",
   "id": "e1ab5c57",
   "metadata": {},
   "source": [
    "#### Question 1: What was the average age of passengers on the Titanic?"
   ]
  },
  {
   "cell_type": "code",
   "execution_count": 10,
   "id": "a88f4537",
   "metadata": {},
   "outputs": [
    {
     "data": {
      "text/plain": [
       "30"
      ]
     },
     "execution_count": 10,
     "metadata": {},
     "output_type": "execute_result"
    }
   ],
   "source": [
    "average_age = math.ceil(titanic_df['Age'].mean())\n",
    "\n",
    "average_age"
   ]
  },
  {
   "cell_type": "markdown",
   "id": "7ce6b002",
   "metadata": {},
   "source": [
    "#### Question 2: What was the average age of female passengers?"
   ]
  },
  {
   "cell_type": "code",
   "execution_count": 11,
   "id": "675d0bdc",
   "metadata": {},
   "outputs": [
    {
     "name": "stdout",
     "output_type": "stream",
     "text": [
      "28 years\n"
     ]
    }
   ],
   "source": [
    "mean_age_female = math.ceil((titanic_df[titanic_df['Sex'] == 'female'])['Age'].mean())\n",
    "print(mean_age_female, \"years\")"
   ]
  },
  {
   "cell_type": "markdown",
   "id": "60a146f6",
   "metadata": {},
   "source": [
    "#### Question 3: What was the average age of male passengers?"
   ]
  },
  {
   "cell_type": "code",
   "execution_count": 12,
   "id": "9c35c7ff",
   "metadata": {},
   "outputs": [
    {
     "name": "stdout",
     "output_type": "stream",
     "text": [
      "31 years\n"
     ]
    }
   ],
   "source": [
    "mean_age_male = math.ceil((titanic_df[titanic_df['Sex'] == 'male'])['Age'].mean())\n",
    "print(mean_age_male, \"years\")"
   ]
  },
  {
   "cell_type": "markdown",
   "id": "b69178f1",
   "metadata": {},
   "source": [
    "#### Question 4: What was the range of ages for female passengers?"
   ]
  },
  {
   "cell_type": "code",
   "execution_count": 13,
   "id": "ab257dae",
   "metadata": {},
   "outputs": [
    {
     "name": "stdout",
     "output_type": "stream",
     "text": [
      "62.25 years\n"
     ]
    }
   ],
   "source": [
    "age_range_female = (titanic_df[titanic_df['Sex'] == 'female'])['Age'].max() - (titanic_df[titanic_df['Sex'] == 'female'])['Age'].min()\n",
    "print(age_range_female, \"years\") "
   ]
  },
  {
   "cell_type": "markdown",
   "id": "d4c8f7cd",
   "metadata": {},
   "source": [
    "#### Question 5: What was the range of ages for male passengers?"
   ]
  },
  {
   "cell_type": "code",
   "execution_count": 14,
   "id": "b833159b",
   "metadata": {},
   "outputs": [
    {
     "name": "stdout",
     "output_type": "stream",
     "text": [
      "79.58 years\n"
     ]
    }
   ],
   "source": [
    "age_range_male = (titanic_df[titanic_df['Sex'] == 'male'])['Age'].max() - (titanic_df[titanic_df['Sex'] == 'male'])['Age'].min()\n",
    "print(age_range_male, \"years\")"
   ]
  },
  {
   "cell_type": "code",
   "execution_count": 15,
   "id": "c3509db7",
   "metadata": {},
   "outputs": [
    {
     "data": {
      "image/png": "[encoded data removed]",
      "text/plain": [
       "<Figure size 432x288 with 1 Axes>"
      ]
     },
     "metadata": {},
     "output_type": "display_data"
    }
   ],
   "source": [
    "sns.set()\n",
    "bin_edges = range(0, 100, 10)\n",
    "plt.hist((titanic_df[titanic_df['Sex'] == 'male'])['Age'], bins=8)\n",
    "plt.title(\"Age distribution of male passengers\")\n",
    "plt.ylabel('Number of passengers')\n",
    "plt.xlabel(\"Ages\");\n"
   ]
  },
  {
   "cell_type": "code",
   "execution_count": 16,
   "id": "e0b65e79",
   "metadata": {},
   "outputs": [
    {
     "data": {
      "image/png": "[encoded data removed]",
      "text/plain": [
       "<Figure size 432x288 with 1 Axes>"
      ]
     },
     "metadata": {},
     "output_type": "display_data"
    }
   ],
   "source": [
    "bin_edges = range(0, 100, 10)\n",
    "plt.hist((titanic_df[titanic_df['Sex'] == 'female'])['Age'], bins=10, rwidth=1)\n",
    "plt.title(\"Age distribution of female passengers\")\n",
    "plt.ylabel('Number of passengers')\n",
    "plt.xlabel(\"Ages\");\n"
   ]
  },
  {
   "cell_type": "code",
   "execution_count": 17,
   "id": "b29f8e1c",
   "metadata": {},
   "outputs": [
    {
     "data": {
      "image/png": "[encoded data removed]",
      "text/plain": [
       "<Figure size 720x432 with 1 Axes>"
      ]
     },
     "metadata": {},
     "output_type": "display_data"
    }
   ],
   "source": [
    "from matplotlib import rcParams\n",
    "\n",
    "\n",
    "male_ages = (titanic_df[titanic_df['Sex'] == 'male'])['Age']\n",
    "female_ages = (titanic_df[titanic_df['Sex'] == 'female'])['Age']\n",
    "\n",
    "rcParams['figure.figsize'] = 10, 6\n",
    "bin_edges = range(0, 100, 10)\n",
    "plt.hist([male_ages, female_ages], bins=8, color=['b','orange'\n",
    "                                                 ], label=['male passengers', 'female passengers'])\n",
    "        # orientation = 'horizontal')\n",
    "   \n",
    "plt.title(\"Age distribution of passengers\")\n",
    "plt.ylabel('Number of passengers')\n",
    "plt.xlabel(\"Ages\")\n",
    "plt.legend();\n"
   ]
  },
  {
   "cell_type": "markdown",
   "id": "8bcf51ee",
   "metadata": {},
   "source": [
    "#### Question 6: What factors made a passenger more likely to survive?"
   ]
  },
  {
   "cell_type": "markdown",
   "id": "b4e9f65a",
   "metadata": {},
   "source": [
    "   ##### Create a function to determine correlation between variables."
   ]
  },
  {
   "cell_type": "code",
   "execution_count": 18,
   "id": "602c8624",
   "metadata": {},
   "outputs": [],
   "source": [
    "def correlation(x, y):\n",
    "    '''\n",
    "    This function computes the correlation between two\n",
    "    input variables. Each input is either a NumPy array or a Pandas\n",
    "    Series.\n",
    "    \n",
    "    correlation = average of (x in standard units) times (y in standard units)\n",
    "    \n",
    "    Pass the argument \"ddof=0\" to the Pandas std() function.\n",
    "    '''\n",
    "    \n",
    "    std_x = (x - x.mean())/x.std(ddof=0)\n",
    "    std_y = (y - y.mean())/y.std(ddof=0)\n",
    "    \n",
    "    product_std = std_x * std_y\n",
    "    \n",
    "    average_product = product_std.mean()\n",
    "    \n",
    "    return average_product\n"
   ]
  },
  {
   "cell_type": "code",
   "execution_count": 19,
   "id": "b0a57898",
   "metadata": {},
   "outputs": [
    {
     "data": {
      "text/html": [
       "<div>\n",
       "<style scoped>\n",
       "    .dataframe tbody tr th:only-of-type {\n",
       "        vertical-align: middle;\n",
       "    }\n",
       "\n",
       "    .dataframe tbody tr th {\n",
       "        vertical-align: top;\n",
       "    }\n",
       "\n",
       "    .dataframe thead th {\n",
       "        text-align: right;\n",
       "    }\n",
       "</style>\n",
       "<table border=\"1\" class=\"dataframe\">\n",
       "  <thead>\n",
       "    <tr style=\"text-align: right;\">\n",
       "      <th></th>\n",
       "      <th>PassengerId</th>\n",
       "      <th>Survived</th>\n",
       "      <th>Pclass</th>\n",
       "      <th>Name</th>\n",
       "      <th>Sex</th>\n",
       "      <th>Age</th>\n",
       "      <th>SibSp</th>\n",
       "      <th>Parch</th>\n",
       "      <th>Ticket</th>\n",
       "      <th>Fare</th>\n",
       "      <th>Cabin</th>\n",
       "      <th>Embarked</th>\n",
       "      <th>Female</th>\n",
       "    </tr>\n",
       "  </thead>\n",
       "  <tbody>\n",
       "    <tr>\n",
       "      <th>0</th>\n",
       "      <td>1</td>\n",
       "      <td>0</td>\n",
       "      <td>3</td>\n",
       "      <td>Braund, Mr. Owen Harris</td>\n",
       "      <td>male</td>\n",
       "      <td>22.0</td>\n",
       "      <td>1</td>\n",
       "      <td>0</td>\n",
       "      <td>A/5 21171</td>\n",
       "      <td>7.2500</td>\n",
       "      <td>NG</td>\n",
       "      <td>S</td>\n",
       "      <td>0</td>\n",
       "    </tr>\n",
       "    <tr>\n",
       "      <th>1</th>\n",
       "      <td>2</td>\n",
       "      <td>1</td>\n",
       "      <td>1</td>\n",
       "      <td>Cumings, Mrs. John Bradley (Florence Briggs Th...</td>\n",
       "      <td>female</td>\n",
       "      <td>38.0</td>\n",
       "      <td>1</td>\n",
       "      <td>0</td>\n",
       "      <td>PC 17599</td>\n",
       "      <td>71.2833</td>\n",
       "      <td>C85</td>\n",
       "      <td>C</td>\n",
       "      <td>1</td>\n",
       "    </tr>\n",
       "    <tr>\n",
       "      <th>2</th>\n",
       "      <td>3</td>\n",
       "      <td>1</td>\n",
       "      <td>3</td>\n",
       "      <td>Heikkinen, Miss. Laina</td>\n",
       "      <td>female</td>\n",
       "      <td>26.0</td>\n",
       "      <td>0</td>\n",
       "      <td>0</td>\n",
       "      <td>STON/O2. 3101282</td>\n",
       "      <td>7.9250</td>\n",
       "      <td>NG</td>\n",
       "      <td>S</td>\n",
       "      <td>1</td>\n",
       "    </tr>\n",
       "    <tr>\n",
       "      <th>3</th>\n",
       "      <td>4</td>\n",
       "      <td>1</td>\n",
       "      <td>1</td>\n",
       "      <td>Futrelle, Mrs. Jacques Heath (Lily May Peel)</td>\n",
       "      <td>female</td>\n",
       "      <td>35.0</td>\n",
       "      <td>1</td>\n",
       "      <td>0</td>\n",
       "      <td>113803</td>\n",
       "      <td>53.1000</td>\n",
       "      <td>C123</td>\n",
       "      <td>S</td>\n",
       "      <td>1</td>\n",
       "    </tr>\n",
       "    <tr>\n",
       "      <th>4</th>\n",
       "      <td>5</td>\n",
       "      <td>0</td>\n",
       "      <td>3</td>\n",
       "      <td>Allen, Mr. William Henry</td>\n",
       "      <td>male</td>\n",
       "      <td>35.0</td>\n",
       "      <td>0</td>\n",
       "      <td>0</td>\n",
       "      <td>373450</td>\n",
       "      <td>8.0500</td>\n",
       "      <td>NG</td>\n",
       "      <td>S</td>\n",
       "      <td>0</td>\n",
       "    </tr>\n",
       "  </tbody>\n",
       "</table>\n",
       "</div>"
      ],
      "text/plain": [
       "   PassengerId  Survived  Pclass  \\\n",
       "0            1         0       3   \n",
       "1            2         1       1   \n",
       "2            3         1       3   \n",
       "3            4         1       1   \n",
       "4            5         0       3   \n",
       "\n",
       "                                                Name     Sex   Age  SibSp  \\\n",
       "0                            Braund, Mr. Owen Harris    male  22.0      1   \n",
       "1  Cumings, Mrs. John Bradley (Florence Briggs Th...  female  38.0      1   \n",
       "2                             Heikkinen, Miss. Laina  female  26.0      0   \n",
       "3       Futrelle, Mrs. Jacques Heath (Lily May Peel)  female  35.0      1   \n",
       "4                           Allen, Mr. William Henry    male  35.0      0   \n",
       "\n",
       "   Parch            Ticket     Fare Cabin Embarked  Female  \n",
       "0      0         A/5 21171   7.2500    NG        S       0  \n",
       "1      0          PC 17599  71.2833   C85        C       1  \n",
       "2      0  STON/O2. 3101282   7.9250    NG        S       1  \n",
       "3      0            113803  53.1000  C123        S       1  \n",
       "4      0            373450   8.0500    NG        S       0  "
      ]
     },
     "execution_count": 19,
     "metadata": {},
     "output_type": "execute_result"
    }
   ],
   "source": [
    "titanic_df.head()\n"
   ]
  },
  {
   "cell_type": "markdown",
   "id": "3d2590c8",
   "metadata": {},
   "source": [
    "##### Convert the relevant columns of the dataframe into variables"
   ]
  },
  {
   "cell_type": "code",
   "execution_count": 20,
   "id": "cd8aca83",
   "metadata": {},
   "outputs": [],
   "source": [
    "\n",
    "survival = titanic_df['Survived']\n",
    "\n",
    "passenger_class = titanic_df['Survived']\n",
    "female = titanic_df['Female']\n",
    "age = titanic_df['Age']\n",
    "siblings_or_spouse = titanic_df['SibSp']\n",
    "parent_or_child = titanic_df['Parch']\n",
    "fare = titanic_df['Fare']\n"
   ]
  },
  {
   "cell_type": "markdown",
   "id": "c5669d4c",
   "metadata": {},
   "source": [
    "##### Determine the correlation between survival and other variables by passing them into the correlation function"
   ]
  },
  {
   "cell_type": "code",
   "execution_count": 21,
   "id": "29cf6a90",
   "metadata": {},
   "outputs": [
    {
     "name": "stdout",
     "output_type": "stream",
     "text": [
      "1.0000000000000007\n",
      "0.5433513806577474\n",
      "-0.08173571368244108\n",
      "-0.03532249888573573\n",
      "0.08162940708348272\n",
      "0.2573065223849616\n"
     ]
    }
   ],
   "source": [
    "print(correlation(survival, passenger_class))\n",
    "\n",
    "print(correlation(survival, female))\n",
    "\n",
    "print(correlation(survival, age))\n",
    "\n",
    "print(correlation(survival, siblings_or_spouse))\n",
    "\n",
    "print(correlation(survival, parent_or_child))\n",
    "\n",
    "print(correlation(survival, fare))\n"
   ]
  },
  {
   "cell_type": "markdown",
   "id": "eaf115b8",
   "metadata": {},
   "source": [
    "Observation:\n",
    "\n",
    "There is a very strong positive linear correlation between survival and the passenger's class of ticket. As the class of ticket provides a metric for socio-economic status, the data suggests that members of the upper class were more likely to survive the shipwreck of the Titanic than members of the lower class. \n",
    "\n",
    "There is also a strong positive linear correlation between survival and the passenger's gender. The data indicates that female passengers were more likely to be among the survivors of the wreck than male passengers. "
   ]
  },
  {
   "cell_type": "markdown",
   "id": "3faac8e9",
   "metadata": {},
   "source": [
    "#### Question 7: Compare the number of passengers based on gender"
   ]
  },
  {
   "cell_type": "code",
   "execution_count": 22,
   "id": "54bd9670",
   "metadata": {},
   "outputs": [
    {
     "name": "stdout",
     "output_type": "stream",
     "text": [
      "891\n",
      "314\n",
      "577\n"
     ]
    }
   ],
   "source": [
    "num_passengers = len(titanic_df)\n",
    "\n",
    "num_female_passengers = titanic_df['Female'].sum()\n",
    "num_male_passengers = num_passengers - num_female_passengers\n",
    "\n",
    "print(num_passengers)\n",
    "print(num_female_passengers)\n",
    "print(num_male_passengers)"
   ]
  },
  {
   "cell_type": "code",
   "execution_count": 23,
   "id": "b4098aec",
   "metadata": {},
   "outputs": [
    {
     "data": {
      "image/png": "[encoded data removed]",
      "text/plain": [
       "<Figure size 720x432 with 1 Axes>"
      ]
     },
     "metadata": {},
     "output_type": "display_data"
    }
   ],
   "source": [
    "gender = titanic_df.groupby('Sex').count()['PassengerId']\n",
    "\n",
    "\n",
    "keys = ['Female', 'Male',]\n",
    "plt.pie(gender, labels = keys, autopct= '%0.0f%%', shadow=True, explode=[0, 0.15], startangle=300, colors=['orange', 'b']);"
   ]
  },
  {
   "cell_type": "markdown",
   "id": "141f34ef",
   "metadata": {},
   "source": [
    "#### Question 8: Compare the number of passengers based on point of embarkation"
   ]
  },
  {
   "cell_type": "code",
   "execution_count": 24,
   "id": "99bdf3ab",
   "metadata": {},
   "outputs": [
    {
     "name": "stdout",
     "output_type": "stream",
     "text": [
      "644\n",
      "168\n",
      "77\n"
     ]
    }
   ],
   "source": [
    "num_southampton_boarders = len(titanic_df[titanic_df['Embarked'] == 'S'])\n",
    "num_cherbourg_boarders = len(titanic_df[titanic_df['Embarked'] == 'C'])\n",
    "num_queenstown_boarders = len(titanic_df[titanic_df['Embarked'] == 'Q'])\n",
    "\n",
    "print(num_southampton_boarders)\n",
    "print(num_cherbourg_boarders)\n",
    "print(num_queenstown_boarders)"
   ]
  },
  {
   "cell_type": "code",
   "execution_count": 25,
   "id": "90046de5",
   "metadata": {
    "scrolled": true
   },
   "outputs": [
    {
     "data": {
      "image/png": "[encoded data removed]",
      "text/plain": [
       "<Figure size 720x432 with 1 Axes>"
      ]
     },
     "metadata": {},
     "output_type": "display_data"
    }
   ],
   "source": [
    "boarders = titanic_df.groupby('Embarked').count()['PassengerId']\n",
    "\n",
    "\n",
    "keys = ['Cherbourg', 'Queenstown', 'Southampton']\n",
    "\n",
    "plt.pie(boarders, labels = keys, autopct= '%0.0f%%', shadow=True, explode=[0.15, 0.0, 0.15], colors=['b', 'orange', 'green']);"
   ]
  },
  {
   "cell_type": "markdown",
   "id": "ee8e0992",
   "metadata": {},
   "source": [
    "#### Question 9: Compare the passengers based on their stage of life."
   ]
  },
  {
   "cell_type": "markdown",
   "id": "9d803d6e",
   "metadata": {},
   "source": [
    "##### Create a new column 'Life Stages'"
   ]
  },
  {
   "cell_type": "markdown",
   "id": "2b49c287",
   "metadata": {},
   "source": [
    "##### Note: \n",
    "\n",
    "These are the definitions used to categorise the passengers by life stage.\n",
    "    \n",
    "Children: Passengers below 13 years of age\n",
    "\n",
    "Teenagers: Passengers between 13 and 19 years old\n",
    "\n",
    "Adults: Passengers between 20 and 55 years old\n",
    "\n",
    "Elders: Passengers older than 55"
   ]
  },
  {
   "cell_type": "code",
   "execution_count": 26,
   "id": "b474cee8",
   "metadata": {
    "scrolled": true
   },
   "outputs": [
    {
     "data": {
      "text/html": [
       "<div>\n",
       "<style scoped>\n",
       "    .dataframe tbody tr th:only-of-type {\n",
       "        vertical-align: middle;\n",
       "    }\n",
       "\n",
       "    .dataframe tbody tr th {\n",
       "        vertical-align: top;\n",
       "    }\n",
       "\n",
       "    .dataframe thead th {\n",
       "        text-align: right;\n",
       "    }\n",
       "</style>\n",
       "<table border=\"1\" class=\"dataframe\">\n",
       "  <thead>\n",
       "    <tr style=\"text-align: right;\">\n",
       "      <th></th>\n",
       "      <th>PassengerId</th>\n",
       "      <th>Survived</th>\n",
       "      <th>Pclass</th>\n",
       "      <th>Name</th>\n",
       "      <th>Sex</th>\n",
       "      <th>Age</th>\n",
       "      <th>SibSp</th>\n",
       "      <th>Parch</th>\n",
       "      <th>Ticket</th>\n",
       "      <th>Fare</th>\n",
       "      <th>Cabin</th>\n",
       "      <th>Embarked</th>\n",
       "      <th>Female</th>\n",
       "      <th>Life Stage</th>\n",
       "    </tr>\n",
       "  </thead>\n",
       "  <tbody>\n",
       "    <tr>\n",
       "      <th>0</th>\n",
       "      <td>1</td>\n",
       "      <td>0</td>\n",
       "      <td>3</td>\n",
       "      <td>Braund, Mr. Owen Harris</td>\n",
       "      <td>male</td>\n",
       "      <td>22.0</td>\n",
       "      <td>1</td>\n",
       "      <td>0</td>\n",
       "      <td>A/5 21171</td>\n",
       "      <td>7.2500</td>\n",
       "      <td>NG</td>\n",
       "      <td>S</td>\n",
       "      <td>0</td>\n",
       "      <td>adult</td>\n",
       "    </tr>\n",
       "    <tr>\n",
       "      <th>1</th>\n",
       "      <td>2</td>\n",
       "      <td>1</td>\n",
       "      <td>1</td>\n",
       "      <td>Cumings, Mrs. John Bradley (Florence Briggs Th...</td>\n",
       "      <td>female</td>\n",
       "      <td>38.0</td>\n",
       "      <td>1</td>\n",
       "      <td>0</td>\n",
       "      <td>PC 17599</td>\n",
       "      <td>71.2833</td>\n",
       "      <td>C85</td>\n",
       "      <td>C</td>\n",
       "      <td>1</td>\n",
       "      <td>adult</td>\n",
       "    </tr>\n",
       "    <tr>\n",
       "      <th>2</th>\n",
       "      <td>3</td>\n",
       "      <td>1</td>\n",
       "      <td>3</td>\n",
       "      <td>Heikkinen, Miss. Laina</td>\n",
       "      <td>female</td>\n",
       "      <td>26.0</td>\n",
       "      <td>0</td>\n",
       "      <td>0</td>\n",
       "      <td>STON/O2. 3101282</td>\n",
       "      <td>7.9250</td>\n",
       "      <td>NG</td>\n",
       "      <td>S</td>\n",
       "      <td>1</td>\n",
       "      <td>adult</td>\n",
       "    </tr>\n",
       "    <tr>\n",
       "      <th>3</th>\n",
       "      <td>4</td>\n",
       "      <td>1</td>\n",
       "      <td>1</td>\n",
       "      <td>Futrelle, Mrs. Jacques Heath (Lily May Peel)</td>\n",
       "      <td>female</td>\n",
       "      <td>35.0</td>\n",
       "      <td>1</td>\n",
       "      <td>0</td>\n",
       "      <td>113803</td>\n",
       "      <td>53.1000</td>\n",
       "      <td>C123</td>\n",
       "      <td>S</td>\n",
       "      <td>1</td>\n",
       "      <td>adult</td>\n",
       "    </tr>\n",
       "    <tr>\n",
       "      <th>4</th>\n",
       "      <td>5</td>\n",
       "      <td>0</td>\n",
       "      <td>3</td>\n",
       "      <td>Allen, Mr. William Henry</td>\n",
       "      <td>male</td>\n",
       "      <td>35.0</td>\n",
       "      <td>0</td>\n",
       "      <td>0</td>\n",
       "      <td>373450</td>\n",
       "      <td>8.0500</td>\n",
       "      <td>NG</td>\n",
       "      <td>S</td>\n",
       "      <td>0</td>\n",
       "      <td>adult</td>\n",
       "    </tr>\n",
       "  </tbody>\n",
       "</table>\n",
       "</div>"
      ],
      "text/plain": [
       "   PassengerId  Survived  Pclass  \\\n",
       "0            1         0       3   \n",
       "1            2         1       1   \n",
       "2            3         1       3   \n",
       "3            4         1       1   \n",
       "4            5         0       3   \n",
       "\n",
       "                                                Name     Sex   Age  SibSp  \\\n",
       "0                            Braund, Mr. Owen Harris    male  22.0      1   \n",
       "1  Cumings, Mrs. John Bradley (Florence Briggs Th...  female  38.0      1   \n",
       "2                             Heikkinen, Miss. Laina  female  26.0      0   \n",
       "3       Futrelle, Mrs. Jacques Heath (Lily May Peel)  female  35.0      1   \n",
       "4                           Allen, Mr. William Henry    male  35.0      0   \n",
       "\n",
       "   Parch            Ticket     Fare Cabin Embarked  Female Life Stage  \n",
       "0      0         A/5 21171   7.2500    NG        S       0      adult  \n",
       "1      0          PC 17599  71.2833   C85        C       1      adult  \n",
       "2      0  STON/O2. 3101282   7.9250    NG        S       1      adult  \n",
       "3      0            113803  53.1000  C123        S       1      adult  \n",
       "4      0            373450   8.0500    NG        S       0      adult  "
      ]
     },
     "execution_count": 26,
     "metadata": {},
     "output_type": "execute_result"
    }
   ],
   "source": [
    "titanic_df['Life Stage'] = np.where((titanic_df['Age'] < 13.0), 'child', 0)\n",
    "titanic_df['Life Stage'] = np.where((titanic_df['Age'] < 20.0) & (titanic_df['Age'] >= 13.0) , 'teen', titanic_df['Life Stage'])\n",
    "titanic_df['Life Stage'] = np.where((titanic_df['Age'] < 55.0) & (titanic_df['Age'] >= 20.0), 'adult', titanic_df['Life Stage'])\n",
    "titanic_df['Life Stage'] = np.where((titanic_df['Age'] >= 55.0), 'elder', titanic_df['Life Stage'])\n",
    "\n",
    "titanic_df.head()\n"
   ]
  },
  {
   "cell_type": "code",
   "execution_count": 27,
   "id": "894b216f",
   "metadata": {
    "scrolled": true
   },
   "outputs": [
    {
     "data": {
      "image/png": "[encoded data removed]",
      "text/plain": [
       "<Figure size 720x432 with 1 Axes>"
      ]
     },
     "metadata": {},
     "output_type": "display_data"
    }
   ],
   "source": [
    "stages = titanic_df.groupby('Life Stage').count()['PassengerId']\n",
    "#print(stages)\n",
    "\n",
    "keys = ['Adults', 'Children', 'Elders', 'Teens']\n",
    "\n",
    "plt.pie(stages, labels = keys, autopct= '%0.0f%%', \n",
    "        shadow=True, explode=[0.15, 0.15, 0.15, 0.15], colors=['b', 'orange', 'green', 'purple'], startangle=60);"
   ]
  },
  {
   "cell_type": "code",
   "execution_count": 28,
   "id": "bca95e56",
   "metadata": {
    "scrolled": true
   },
   "outputs": [
    {
     "data": {
      "image/png": "[encoded data removed]",
      "text/plain": [
       "<Figure size 360x360 with 1 Axes>"
      ]
     },
     "metadata": {},
     "output_type": "display_data"
    }
   ],
   "source": [
    "keys = ['Adults', 'Children', 'Elders', 'Teens']\n",
    "\n",
    "rcParams['figure.figsize'] = 5, 5\n",
    "\n",
    "plt.bar(keys, stages, color='b', width = 0.5)\n",
    "plt.title(\"Distribution of passengers by life stages\")\n",
    "plt.ylabel('Number of passengers')\n",
    "plt.xlabel(\"Age category\");\n"
   ]
  },
  {
   "cell_type": "markdown",
   "id": "58c35cf0",
   "metadata": {},
   "source": [
    "##### Observation: \n",
    "There were 727 adults, 69 children & 95 teenagers onboard the Titanic (i.e. Summing up the elders and adults categories)"
   ]
  },
  {
   "cell_type": "code",
   "execution_count": 29,
   "id": "e9f55681",
   "metadata": {},
   "outputs": [],
   "source": [
    "# Compare average age of passengers with NaN values as zero and NaN values as Average age\n",
    "\n",
    "# See if you can Convert the correlations calculated above into variables and plot on a line graph \n",
    "# i.e P(S) = F(x) probability of survival as a function of the various factors\n",
    "# Might be cause for reseaarch :)\n",
    "\n",
    "# Observation on the normal distribution of ages of passengers\n",
    "#Observation on mode of age of males btw 30 and 40 and mode of age of females btw 20 and 30\n",
    "# Observation on skewness "
   ]
  }
 ],
 "metadata": {
  "kernelspec": {
   "display_name": "Python 3 (ipykernel)",
   "language": "python",
   "name": "python3"
  },
  "language_info": {
   "codemirror_mode": {
    "name": "ipython",
    "version": 3
   },
   "file_extension": ".py",
   "mimetype": "text/x-python",
   "name": "python",
   "nbconvert_exporter": "python",
   "pygments_lexer": "ipython3",
   "version": "3.8.11"
  }
 },
 "nbformat": 4,
 "nbformat_minor": 5
}
